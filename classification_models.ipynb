{
 "cells": [
  {
   "cell_type": "code",
   "execution_count": 1,
   "metadata": {},
   "outputs": [
    {
     "name": "stderr",
     "output_type": "stream",
     "text": [
      "C:\\Users\\nusra\\Anaconda3\\lib\\site-packages\\sklearn\\ensemble\\weight_boosting.py:29: DeprecationWarning: numpy.core.umath_tests is an internal NumPy module and should not be imported. It will be removed in a future NumPy release.\n",
      "  from numpy.core.umath_tests import inner1d\n"
     ]
    }
   ],
   "source": [
    "import os\n",
    "import io\n",
    "import numpy as np\n",
    "import pandas as pd\n",
    "import matplotlib.pyplot as plt\n",
    "\n",
    "from sklearn.svm import SVC  \n",
    "from sklearn.metrics import classification_report, confusion_matrix, accuracy_score\n",
    "from sklearn import tree, metrics\n",
    "import pydotplus\n",
    "from sklearn.tree import DecisionTreeClassifier\n",
    "from sklearn.ensemble import RandomForestClassifier\n",
    "from sklearn.model_selection import train_test_split\n",
    "from sklearn import tree"
   ]
  },
  {
   "cell_type": "code",
   "execution_count": 10,
   "metadata": {},
   "outputs": [],
   "source": [
    "url=r'fall_label_data_with_g.csv'\n",
    "df = pd.read_csv(url)\n",
    "\n",
    "df = df.drop(['Unnamed: 0', 'time(s)'],axis=1)"
   ]
  },
  {
   "cell_type": "code",
   "execution_count": 11,
   "metadata": {},
   "outputs": [
    {
     "name": "stdout",
     "output_type": "stream",
     "text": [
      "(60, 13)\n",
      "(60,)\n"
     ]
    }
   ],
   "source": [
    "from sklearn.model_selection import train_test_split  \n",
    "X = df.drop('label', axis=1)  \n",
    "X = X.values\n",
    "y = df['label']  \n",
    "print(X.shape)\n",
    "print(y.shape)\n",
    "\n",
    "X_train, X_test, y_train, y_test = train_test_split(X, y, test_size = 0.15)  "
   ]
  },
  {
   "cell_type": "code",
   "execution_count": 12,
   "metadata": {},
   "outputs": [
    {
     "name": "stdout",
     "output_type": "stream",
     "text": [
      "[[7 0]\n",
      " [1 1]]\n",
      "             precision    recall  f1-score   support\n",
      "\n",
      "          0       0.88      1.00      0.93         7\n",
      "          1       1.00      0.50      0.67         2\n",
      "\n",
      "avg / total       0.90      0.89      0.87         9\n",
      "\n",
      "Accuracy of Linear Kernel SVM :0.889\n"
     ]
    }
   ],
   "source": [
    "svclassifier = SVC(kernel='linear')  \n",
    "svclassifier.fit(X_train, y_train)  \n",
    "\n",
    " #Making predictions\n",
    "y_pred = svclassifier.predict(X_test)  \n",
    "\n",
    "# Evaluating the algorithm\n",
    "print(confusion_matrix(y_test,y_pred))  \n",
    "print(classification_report(y_test,y_pred))  \n",
    "print(\"Accuracy of Linear Kernel SVM :{0:.3f}\".format(accuracy_score(y_test, y_pred), \"\\n\"))"
   ]
  },
  {
   "cell_type": "code",
   "execution_count": 13,
   "metadata": {},
   "outputs": [
    {
     "name": "stdout",
     "output_type": "stream",
     "text": [
      "Accuracy:1.000\n"
     ]
    }
   ],
   "source": [
    "fnames = df.drop('label', axis=1)\n",
    "cnames = np.array([ 'walk','fall'], dtype='<U10')\n",
    "\n",
    "clf = tree.DecisionTreeClassifier()\n",
    "clf = clf.fit(X_train, y_train)\n",
    "\n",
    "y_pred = clf.predict(X_test)\n",
    "print(\"Accuracy:{0:.3f}\".format(metrics.accuracy_score(y_test, y_pred), \"\\n\"))"
   ]
  },
  {
   "cell_type": "code",
   "execution_count": 14,
   "metadata": {},
   "outputs": [
    {
     "data": {
      "text/plain": [
       "Index(['x_max', 'x_min', 'x_avg', 'y_max', 'y_min', 'y_avg', 'y_diff', 'z_max',\n",
       "       'z_min', 'z_avg', 'smv_max', 'smv_min', 'smv_avg', 'label'],\n",
       "      dtype='object')"
      ]
     },
     "execution_count": 14,
     "metadata": {},
     "output_type": "execute_result"
    }
   ],
   "source": [
    "df.columns"
   ]
  },
  {
   "cell_type": "code",
   "execution_count": 15,
   "metadata": {},
   "outputs": [],
   "source": [
    "fn = ['x_max', 'x_min', 'x_avg', 'y_max', 'y_min', 'y_avg', 'y_diff', 'z_max',\n",
    "       'z_min', 'z_avg', 'smv_max', 'smv_min', 'smv_avg']\n",
    "cn = ['walk','fall']\n",
    "tree.export_graphviz(clf,\n",
    "                     out_file=\"tree.dot\",\n",
    "                     feature_names = fn, \n",
    "                     class_names=cn,\n",
    "                     filled = True)"
   ]
  },
  {
   "cell_type": "code",
   "execution_count": 18,
   "metadata": {},
   "outputs": [
    {
     "data": {
      "text/plain": [
       "0"
      ]
     },
     "execution_count": 18,
     "metadata": {},
     "output_type": "execute_result"
    }
   ],
   "source": [
    "# import pydot\n",
    "\n",
    "# (graph,) = pydot.graph_from_dot_file('tree.dot')\n",
    "# graph.write_png('decision_tree.png')\n",
    "\n",
    "import os\n",
    "os.environ[\"PATH\"] += os.pathsep + 'C:/Program Files (x86)/Graphviz2.38/bin/'\n",
    "os.system('dot -Tpng tree.dot -o tree.png')"
   ]
  }
 ],
 "metadata": {
  "kernelspec": {
   "display_name": "Python 3",
   "language": "python",
   "name": "python3"
  },
  "language_info": {
   "codemirror_mode": {
    "name": "ipython",
    "version": 3
   },
   "file_extension": ".py",
   "mimetype": "text/x-python",
   "name": "python",
   "nbconvert_exporter": "python",
   "pygments_lexer": "ipython3",
   "version": "3.6.5"
  }
 },
 "nbformat": 4,
 "nbformat_minor": 2
}
