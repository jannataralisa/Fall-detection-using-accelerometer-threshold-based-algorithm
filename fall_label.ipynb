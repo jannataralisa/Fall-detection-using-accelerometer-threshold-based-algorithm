{
 "cells": [
  {
   "cell_type": "code",
   "execution_count": 2,
   "metadata": {
    "colab": {},
    "colab_type": "code",
    "id": "wtojdQK9q-o_"
   },
   "outputs": [],
   "source": [
    "import os\n",
    "import io\n",
    "import numpy as np\n",
    "import pandas as pd\n",
    "import matplotlib.pyplot as plt"
   ]
  },
  {
   "cell_type": "code",
   "execution_count": 3,
   "metadata": {
    "colab": {},
    "colab_type": "code",
    "id": "NDmNzmWR0zjy"
   },
   "outputs": [],
   "source": [
    "filename = 'data_with_g'\n",
    "url=r'{}.csv'.format(filename)\n",
    "df = pd.read_csv(url)"
   ]
  },
  {
   "cell_type": "code",
   "execution_count": 4,
   "metadata": {},
   "outputs": [
    {
     "data": {
      "text/html": [
       "<div>\n",
       "<style scoped>\n",
       "    .dataframe tbody tr th:only-of-type {\n",
       "        vertical-align: middle;\n",
       "    }\n",
       "\n",
       "    .dataframe tbody tr th {\n",
       "        vertical-align: top;\n",
       "    }\n",
       "\n",
       "    .dataframe thead th {\n",
       "        text-align: right;\n",
       "    }\n",
       "</style>\n",
       "<table border=\"1\" class=\"dataframe\">\n",
       "  <thead>\n",
       "    <tr style=\"text-align: right;\">\n",
       "      <th></th>\n",
       "      <th>Time (s)</th>\n",
       "      <th>Acceleration x (m/s^2)</th>\n",
       "      <th>Acceleration y (m/s^2)</th>\n",
       "      <th>Acceleration z (m/s^2)</th>\n",
       "      <th>Absolute acceleration (m/s^2)</th>\n",
       "    </tr>\n",
       "  </thead>\n",
       "  <tbody>\n",
       "    <tr>\n",
       "      <th>0</th>\n",
       "      <td>0.00</td>\n",
       "      <td>-2.19</td>\n",
       "      <td>3.54</td>\n",
       "      <td>7.89</td>\n",
       "      <td>8.93</td>\n",
       "    </tr>\n",
       "    <tr>\n",
       "      <th>1</th>\n",
       "      <td>0.00</td>\n",
       "      <td>-2.19</td>\n",
       "      <td>3.56</td>\n",
       "      <td>7.87</td>\n",
       "      <td>8.91</td>\n",
       "    </tr>\n",
       "    <tr>\n",
       "      <th>2</th>\n",
       "      <td>0.00</td>\n",
       "      <td>-2.19</td>\n",
       "      <td>3.58</td>\n",
       "      <td>7.84</td>\n",
       "      <td>8.89</td>\n",
       "    </tr>\n",
       "    <tr>\n",
       "      <th>3</th>\n",
       "      <td>0.01</td>\n",
       "      <td>-2.17</td>\n",
       "      <td>3.60</td>\n",
       "      <td>7.83</td>\n",
       "      <td>8.88</td>\n",
       "    </tr>\n",
       "    <tr>\n",
       "      <th>4</th>\n",
       "      <td>0.01</td>\n",
       "      <td>-2.14</td>\n",
       "      <td>3.61</td>\n",
       "      <td>7.83</td>\n",
       "      <td>8.89</td>\n",
       "    </tr>\n",
       "  </tbody>\n",
       "</table>\n",
       "</div>"
      ],
      "text/plain": [
       "   Time (s)  Acceleration x (m/s^2)  Acceleration y (m/s^2)  \\\n",
       "0      0.00                   -2.19                    3.54   \n",
       "1      0.00                   -2.19                    3.56   \n",
       "2      0.00                   -2.19                    3.58   \n",
       "3      0.01                   -2.17                    3.60   \n",
       "4      0.01                   -2.14                    3.61   \n",
       "\n",
       "   Acceleration z (m/s^2)  Absolute acceleration (m/s^2)  \n",
       "0                    7.89                           8.93  \n",
       "1                    7.87                           8.91  \n",
       "2                    7.84                           8.89  \n",
       "3                    7.83                           8.88  \n",
       "4                    7.83                           8.89  "
      ]
     },
     "execution_count": 4,
     "metadata": {},
     "output_type": "execute_result"
    }
   ],
   "source": [
    "df.head()"
   ]
  },
  {
   "cell_type": "code",
   "execution_count": 76,
   "metadata": {},
   "outputs": [],
   "source": [
    "df['SMV'] = df.apply(lambda row: np.sqrt(row['Acceleration x (m/s^2)']**2+\n",
    "                                           row['Acceleration y (m/s^2)']**2+\n",
    "                                           row['Acceleration z (m/s^2)']**2), axis=1)"
   ]
  },
  {
   "cell_type": "code",
   "execution_count": 79,
   "metadata": {},
   "outputs": [],
   "source": [
    "df.head()"
   ]
  },
  {
   "cell_type": "code",
   "execution_count": 78,
   "metadata": {},
   "outputs": [],
   "source": [
    "#to create 2 second window, separate each 1000 rows\n",
    "list_chunks = []\n",
    "for g, df in df.groupby(np.arange(len(df)) // 1000):\n",
    "    list_chunks.append(df)"
   ]
  },
  {
   "cell_type": "code",
   "execution_count": 79,
   "metadata": {},
   "outputs": [],
   "source": [
    "#create new df with feature names\n",
    "feature_df = pd.DataFrame(columns = ['time(s)','x_max','x_min','x_avg',\n",
    "                                     'y_max','y_min','y_avg','y_diff',\n",
    "                                     'z_max','z_min','z_avg', 'smv_max','smv_min','smv_avg'])"
   ]
  },
  {
   "cell_type": "code",
   "execution_count": 80,
   "metadata": {},
   "outputs": [],
   "source": [
    "for chunck in list_chunks:\n",
    "#     chunk = chunk.drop('Unnamed: 0', axis=1)\n",
    "    max_x = chunck['Acceleration x (m/s^2)'].max()\n",
    "    min_x = chunck['Acceleration x (m/s^2)'].min()\n",
    "    avg_x = chunck['Acceleration x (m/s^2)'].mean()\n",
    "        \n",
    "    max_y = chunck['Acceleration y (m/s^2)'].max()\n",
    "    min_y = chunck['Acceleration y (m/s^2)'].min()\n",
    "    avg_y = chunck['Acceleration y (m/s^2)'].mean()\n",
    "    y_diff = abs(max_y-min_y)\n",
    "    \n",
    "    max_z = chunck['Acceleration z (m/s^2)'].max()\n",
    "    min_z = chunck['Acceleration z (m/s^2)'].min()\n",
    "    avg_z = chunck['Acceleration z (m/s^2)'].mean()\n",
    "    \n",
    "    max_smv = chunck['SMV'].max()\n",
    "    min_smv = chunck['SMV'].min()\n",
    "    avg_smv = chunck['SMV'].mean()\n",
    "     \n",
    "    time_s = chunck['Time (s)'].max()\n",
    "    \n",
    "    feature_df = feature_df.append({'time(s)': time_s,\n",
    "                                    'x_max': max_x,\n",
    "                                    'x_min': min_x,\n",
    "                                    'x_avg': avg_x,\n",
    "                                    'y_max': max_y,\n",
    "                                    'y_min': min_y,\n",
    "                                    'y_avg': avg_y,\n",
    "                                    'y_diff' : y_diff,\n",
    "                                    'z_max': max_z,\n",
    "                                    'z_min': min_z,\n",
    "                                    'z_avg': avg_z,\n",
    "                                    'smv_max': max_smv,\n",
    "                                    'smv_min': min_smv,\n",
    "                                    'smv_avg':avg_smv},\n",
    "                                     ignore_index=True)\n",
    "    "
   ]
  },
  {
   "cell_type": "code",
   "execution_count": 81,
   "metadata": {},
   "outputs": [
    {
     "data": {
      "text/html": [
       "<div>\n",
       "<style scoped>\n",
       "    .dataframe tbody tr th:only-of-type {\n",
       "        vertical-align: middle;\n",
       "    }\n",
       "\n",
       "    .dataframe tbody tr th {\n",
       "        vertical-align: top;\n",
       "    }\n",
       "\n",
       "    .dataframe thead th {\n",
       "        text-align: right;\n",
       "    }\n",
       "</style>\n",
       "<table border=\"1\" class=\"dataframe\">\n",
       "  <thead>\n",
       "    <tr style=\"text-align: right;\">\n",
       "      <th></th>\n",
       "      <th>time(s)</th>\n",
       "      <th>x_max</th>\n",
       "      <th>x_min</th>\n",
       "      <th>x_avg</th>\n",
       "      <th>y_max</th>\n",
       "      <th>y_min</th>\n",
       "      <th>y_avg</th>\n",
       "      <th>y_diff</th>\n",
       "      <th>z_max</th>\n",
       "      <th>z_min</th>\n",
       "      <th>z_avg</th>\n",
       "      <th>smv_max</th>\n",
       "      <th>smv_min</th>\n",
       "      <th>smv_avg</th>\n",
       "    </tr>\n",
       "  </thead>\n",
       "  <tbody>\n",
       "    <tr>\n",
       "      <th>0</th>\n",
       "      <td>2.0</td>\n",
       "      <td>0.25</td>\n",
       "      <td>-2.68</td>\n",
       "      <td>-1.36510</td>\n",
       "      <td>5.08</td>\n",
       "      <td>0.04</td>\n",
       "      <td>2.77126</td>\n",
       "      <td>5.04</td>\n",
       "      <td>13.25</td>\n",
       "      <td>6.75</td>\n",
       "      <td>9.32075</td>\n",
       "      <td>13.374547</td>\n",
       "      <td>7.779666</td>\n",
       "      <td>9.927433</td>\n",
       "    </tr>\n",
       "    <tr>\n",
       "      <th>1</th>\n",
       "      <td>4.0</td>\n",
       "      <td>2.03</td>\n",
       "      <td>-2.18</td>\n",
       "      <td>0.03282</td>\n",
       "      <td>5.69</td>\n",
       "      <td>2.43</td>\n",
       "      <td>3.66023</td>\n",
       "      <td>3.26</td>\n",
       "      <td>10.58</td>\n",
       "      <td>7.74</td>\n",
       "      <td>9.25582</td>\n",
       "      <td>11.486444</td>\n",
       "      <td>8.817227</td>\n",
       "      <td>10.043078</td>\n",
       "    </tr>\n",
       "    <tr>\n",
       "      <th>2</th>\n",
       "      <td>6.0</td>\n",
       "      <td>1.71</td>\n",
       "      <td>-5.66</td>\n",
       "      <td>-1.13651</td>\n",
       "      <td>4.27</td>\n",
       "      <td>-0.76</td>\n",
       "      <td>2.05944</td>\n",
       "      <td>5.03</td>\n",
       "      <td>12.63</td>\n",
       "      <td>6.05</td>\n",
       "      <td>9.48482</td>\n",
       "      <td>12.909818</td>\n",
       "      <td>6.347433</td>\n",
       "      <td>10.038126</td>\n",
       "    </tr>\n",
       "    <tr>\n",
       "      <th>3</th>\n",
       "      <td>8.0</td>\n",
       "      <td>1.38</td>\n",
       "      <td>-1.78</td>\n",
       "      <td>-0.21420</td>\n",
       "      <td>5.33</td>\n",
       "      <td>1.73</td>\n",
       "      <td>3.10468</td>\n",
       "      <td>3.60</td>\n",
       "      <td>11.27</td>\n",
       "      <td>7.28</td>\n",
       "      <td>9.36129</td>\n",
       "      <td>11.582875</td>\n",
       "      <td>8.315011</td>\n",
       "      <td>9.946413</td>\n",
       "    </tr>\n",
       "    <tr>\n",
       "      <th>4</th>\n",
       "      <td>10.0</td>\n",
       "      <td>2.16</td>\n",
       "      <td>-1.31</td>\n",
       "      <td>0.60319</td>\n",
       "      <td>3.48</td>\n",
       "      <td>-0.85</td>\n",
       "      <td>1.86711</td>\n",
       "      <td>4.33</td>\n",
       "      <td>12.94</td>\n",
       "      <td>7.17</td>\n",
       "      <td>9.74263</td>\n",
       "      <td>13.026055</td>\n",
       "      <td>7.627372</td>\n",
       "      <td>10.028175</td>\n",
       "    </tr>\n",
       "  </tbody>\n",
       "</table>\n",
       "</div>"
      ],
      "text/plain": [
       "   time(s)  x_max  x_min    x_avg  y_max  y_min    y_avg  y_diff  z_max  \\\n",
       "0      2.0   0.25  -2.68 -1.36510   5.08   0.04  2.77126    5.04  13.25   \n",
       "1      4.0   2.03  -2.18  0.03282   5.69   2.43  3.66023    3.26  10.58   \n",
       "2      6.0   1.71  -5.66 -1.13651   4.27  -0.76  2.05944    5.03  12.63   \n",
       "3      8.0   1.38  -1.78 -0.21420   5.33   1.73  3.10468    3.60  11.27   \n",
       "4     10.0   2.16  -1.31  0.60319   3.48  -0.85  1.86711    4.33  12.94   \n",
       "\n",
       "   z_min    z_avg    smv_max   smv_min    smv_avg  \n",
       "0   6.75  9.32075  13.374547  7.779666   9.927433  \n",
       "1   7.74  9.25582  11.486444  8.817227  10.043078  \n",
       "2   6.05  9.48482  12.909818  6.347433  10.038126  \n",
       "3   7.28  9.36129  11.582875  8.315011   9.946413  \n",
       "4   7.17  9.74263  13.026055  7.627372  10.028175  "
      ]
     },
     "execution_count": 81,
     "metadata": {},
     "output_type": "execute_result"
    }
   ],
   "source": [
    "feature_df.head()"
   ]
  },
  {
   "cell_type": "code",
   "execution_count": 82,
   "metadata": {},
   "outputs": [
    {
     "data": {
      "text/plain": [
       "<matplotlib.axes._subplots.AxesSubplot at 0x1f25208a2b0>"
      ]
     },
     "execution_count": 82,
     "metadata": {},
     "output_type": "execute_result"
    },
    {
     "data": {
      "image/png": "[encoded data removed]",
      "text/plain": [
       "<Figure size 432x288 with 1 Axes>"
      ]
     },
     "metadata": {},
     "output_type": "display_data"
    }
   ],
   "source": [
    "feature_df[['y_diff','y_avg','y_max','y_min']].plot()"
   ]
  },
  {
   "cell_type": "code",
   "execution_count": 83,
   "metadata": {},
   "outputs": [
    {
     "data": {
      "text/plain": [
       "<matplotlib.axes._subplots.AxesSubplot at 0x1f2526a6ba8>"
      ]
     },
     "execution_count": 83,
     "metadata": {},
     "output_type": "execute_result"
    },
    {
     "data": {
      "image/png": "[encoded data removed]",
      "text/plain": [
       "<Figure size 432x288 with 1 Axes>"
      ]
     },
     "metadata": {},
     "output_type": "display_data"
    }
   ],
   "source": [
    "feature_df['y_diff'].plot()\n",
    "feature_df['smv_avg'].plot()"
   ]
  },
  {
   "cell_type": "code",
   "execution_count": 93,
   "metadata": {},
   "outputs": [
    {
     "data": {
      "text/plain": [
       "7.0557954463030725"
      ]
     },
     "execution_count": 93,
     "metadata": {},
     "output_type": "execute_result"
    }
   ],
   "source": [
    "# feature_df[feature_df['y_diff']>50].smv_avg.min()\n",
    "#for testing purpose"
   ]
  },
  {
   "cell_type": "code",
   "execution_count": 92,
   "metadata": {},
   "outputs": [
    {
     "data": {
      "text/plain": [
       "time(s)    20\n",
       "x_max      20\n",
       "x_min      20\n",
       "x_avg      20\n",
       "y_max      20\n",
       "y_min      20\n",
       "y_avg      20\n",
       "y_diff     20\n",
       "z_max      20\n",
       "z_min      20\n",
       "z_avg      20\n",
       "smv_max    20\n",
       "smv_min    20\n",
       "smv_avg    20\n",
       "dtype: int64"
      ]
     },
     "execution_count": 92,
     "metadata": {},
     "output_type": "execute_result"
    }
   ],
   "source": [
    "#how many rows has y_diff>50?\n",
    "feature_df[feature_df['y_diff']>50].count()"
   ]
  },
  {
   "cell_type": "code",
   "execution_count": 64,
   "metadata": {},
   "outputs": [],
   "source": [
    "th_y = 50"
   ]
  },
  {
   "cell_type": "code",
   "execution_count": 94,
   "metadata": {},
   "outputs": [],
   "source": [
    "feature_df['label'] = feature_df.apply(lambda row: 1 if (row['y_diff']>= th_y) else 0, axis=1)"
   ]
  },
  {
   "cell_type": "code",
   "execution_count": 98,
   "metadata": {},
   "outputs": [
    {
     "data": {
      "text/plain": [
       "time(s)    20\n",
       "x_max      20\n",
       "x_min      20\n",
       "x_avg      20\n",
       "y_max      20\n",
       "y_min      20\n",
       "y_avg      20\n",
       "y_diff     20\n",
       "z_max      20\n",
       "z_min      20\n",
       "z_avg      20\n",
       "smv_max    20\n",
       "smv_min    20\n",
       "smv_avg    20\n",
       "label      20\n",
       "dtype: int64"
      ]
     },
     "execution_count": 98,
     "metadata": {},
     "output_type": "execute_result"
    }
   ],
   "source": [
    "feature_df.query('label ==1').count()"
   ]
  },
  {
   "cell_type": "code",
   "execution_count": null,
   "metadata": {},
   "outputs": [],
   "source": [
    "#save file to csv\n",
    "feature_df.to_csv(r'fall_label_'+filename+'.csv')"
   ]
  },
  {
   "cell_type": "code",
   "execution_count": null,
   "metadata": {},
   "outputs": [],
   "source": [
    "feature_df.head()"
   ]
  }
 ],
 "metadata": {
  "colab": {
   "collapsed_sections": [],
   "name": "fall.ipynb",
   "private_outputs": true,
   "provenance": []
  },
  "kernelspec": {
   "display_name": "Python 3",
   "language": "python",
   "name": "python3"
  }
 },
 "nbformat": 4,
 "nbformat_minor": 1
}
